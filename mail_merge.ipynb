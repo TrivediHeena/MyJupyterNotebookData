{
 "cells": [
  {
   "cell_type": "code",
   "execution_count": 1,
   "metadata": {},
   "outputs": [
    {
     "name": "stdout",
     "output_type": "stream",
     "text": [
      "Collecting docx-mailmerge\n",
      "  Downloading https://files.pythonhosted.org/packages/7a/89/93f59a8ac238d419dbd10cce3ded62348aaca27c3423db13f22940661451/docx_mailmerge-0.4.0-py2.py3-none-any.whl\n",
      "Requirement already satisfied: lxml in d:\\anaconda_py\\lib\\site-packages (from docx-mailmerge) (4.3.0)\n",
      "Installing collected packages: docx-mailmerge\n",
      "Successfully installed docx-mailmerge-0.4.0\n"
     ]
    }
   ],
   "source": [
    "!pip install docx-mailmerge"
   ]
  },
  {
   "cell_type": "code",
   "execution_count": 1,
   "metadata": {},
   "outputs": [
    {
     "name": "stdout",
     "output_type": "stream",
     "text": [
      "set() {'AddressBlock'}\n"
     ]
    }
   ],
   "source": [
    "from mailmerge import MailMerge\n",
    "with MailMerge('mail_merge.docx') as doc:\n",
    "    doc.merge(field1=\"Hello Dear\")\n",
    "    print(doc.get_merge_fields(),{'AddressBlock'})"
   ]
  },
  {
   "cell_type": "code",
   "execution_count": 2,
   "metadata": {},
   "outputs": [],
   "source": [
    "from mailmerge import MailMerge\n",
    "#doc=MailMerge('mail_merge_1.docx')\n",
    "op_doc=MailMerge('mail_merge_tbl.docx')\n",
    "data=[{\"Seat_No\":\"00122\",\"Name\":\"abc\",\"Stream\":\"BCA\"},{\"Seat_No\":\"01348\",\"Name\":\"xyz\",\"Stream\":\"BSc.IT\"}]\n",
    "op_doc.merge_rows(\"Seat_No\",data)\n",
    "op_doc.write('op_mailMerge.docx')"
   ]
  },
  {
   "cell_type": "code",
   "execution_count": 3,
   "metadata": {},
   "outputs": [],
   "source": [
    "from mailmerge import MailMerge\n",
    "#doc=MailMerge('mail_merge_1.docx')\n",
    "op_doc=MailMerge('result.docx')\n",
    "data=[{\"Seat_No\":\"A01239\",\"Name\":\"ABC\",\"Stream\":\"BCA\",\"Sub1\":[{\"Sub1\":\"67\",\"Sub2\":\"78\",\"Sub3\":\"80\"}]},{\"Seat_No\":\"B02348\",\"Name\":\"XYZ\",\"Stream\":\"BSc.IT\",\"Sub1\":[{\"Sub1\":\"72\",\"Sub2\":\"83\",\"Sub3\":\"86\"}]}]\n",
    "op_doc.merge_pages(data)\n",
    "op_doc.write('op_result.docx')"
   ]
  },
  {
   "cell_type": "code",
   "execution_count": null,
   "metadata": {},
   "outputs": [],
   "source": []
  }
 ],
 "metadata": {
  "kernelspec": {
   "display_name": "Python 3",
   "language": "python",
   "name": "python3"
  },
  "language_info": {
   "codemirror_mode": {
    "name": "ipython",
    "version": 3
   },
   "file_extension": ".py",
   "mimetype": "text/x-python",
   "name": "python",
   "nbconvert_exporter": "python",
   "pygments_lexer": "ipython3",
   "version": "3.6.8"
  }
 },
 "nbformat": 4,
 "nbformat_minor": 2
}
