{
 "cells": [
  {
   "cell_type": "code",
   "execution_count": 1,
   "metadata": {},
   "outputs": [],
   "source": [
    "import numpy as np\n",
    "import matplotlib.pyplot as plt\n",
    "import pandas as pd\n",
    "from sklearn.preprocessing import LabelEncoder"
   ]
  },
  {
   "cell_type": "code",
   "execution_count": 2,
   "metadata": {},
   "outputs": [],
   "source": [
    "dataset_file=\"train.csv\"\n",
    "\n",
    "df=pd.read_csv(dataset_file,encoding=\"ISO-8859-1\")"
   ]
  },
  {
   "cell_type": "code",
   "execution_count": 3,
   "metadata": {},
   "outputs": [
    {
     "data": {
      "text/html": [
       "<div>\n",
       "<style scoped>\n",
       "    .dataframe tbody tr th:only-of-type {\n",
       "        vertical-align: middle;\n",
       "    }\n",
       "\n",
       "    .dataframe tbody tr th {\n",
       "        vertical-align: top;\n",
       "    }\n",
       "\n",
       "    .dataframe thead th {\n",
       "        text-align: right;\n",
       "    }\n",
       "</style>\n",
       "<table border=\"1\" class=\"dataframe\">\n",
       "  <thead>\n",
       "    <tr style=\"text-align: right;\">\n",
       "      <th></th>\n",
       "      <th>Key</th>\n",
       "      <th>Male</th>\n",
       "      <th>Age</th>\n",
       "      <th>Debt</th>\n",
       "      <th>Married</th>\n",
       "      <th>BankCustomer</th>\n",
       "      <th>EducationLevel</th>\n",
       "      <th>Ethnicity</th>\n",
       "      <th>YearsEmployed</th>\n",
       "      <th>PriorDefault</th>\n",
       "      <th>Employed</th>\n",
       "      <th>CreditScore</th>\n",
       "      <th>DriversLicense</th>\n",
       "      <th>Citizen</th>\n",
       "      <th>ZipCode</th>\n",
       "      <th>Income</th>\n",
       "      <th>Approved</th>\n",
       "    </tr>\n",
       "  </thead>\n",
       "  <tbody>\n",
       "    <tr>\n",
       "      <th>0</th>\n",
       "      <td>1</td>\n",
       "      <td>?</td>\n",
       "      <td>40.83</td>\n",
       "      <td>3.500</td>\n",
       "      <td>u</td>\n",
       "      <td>g</td>\n",
       "      <td>i</td>\n",
       "      <td>bb</td>\n",
       "      <td>0.500</td>\n",
       "      <td>f</td>\n",
       "      <td>f</td>\n",
       "      <td>0</td>\n",
       "      <td>f</td>\n",
       "      <td>s</td>\n",
       "      <td>1160</td>\n",
       "      <td>0</td>\n",
       "      <td>-</td>\n",
       "    </tr>\n",
       "    <tr>\n",
       "      <th>1</th>\n",
       "      <td>2</td>\n",
       "      <td>?</td>\n",
       "      <td>32.25</td>\n",
       "      <td>1.500</td>\n",
       "      <td>u</td>\n",
       "      <td>g</td>\n",
       "      <td>c</td>\n",
       "      <td>v</td>\n",
       "      <td>0.250</td>\n",
       "      <td>f</td>\n",
       "      <td>f</td>\n",
       "      <td>0</td>\n",
       "      <td>t</td>\n",
       "      <td>g</td>\n",
       "      <td>372</td>\n",
       "      <td>122</td>\n",
       "      <td>-</td>\n",
       "    </tr>\n",
       "    <tr>\n",
       "      <th>2</th>\n",
       "      <td>3</td>\n",
       "      <td>?</td>\n",
       "      <td>28.17</td>\n",
       "      <td>0.585</td>\n",
       "      <td>u</td>\n",
       "      <td>g</td>\n",
       "      <td>aa</td>\n",
       "      <td>v</td>\n",
       "      <td>0.040</td>\n",
       "      <td>f</td>\n",
       "      <td>f</td>\n",
       "      <td>0</td>\n",
       "      <td>f</td>\n",
       "      <td>g</td>\n",
       "      <td>260</td>\n",
       "      <td>1004</td>\n",
       "      <td>-</td>\n",
       "    </tr>\n",
       "    <tr>\n",
       "      <th>3</th>\n",
       "      <td>4</td>\n",
       "      <td>?</td>\n",
       "      <td>29.75</td>\n",
       "      <td>0.665</td>\n",
       "      <td>u</td>\n",
       "      <td>g</td>\n",
       "      <td>w</td>\n",
       "      <td>v</td>\n",
       "      <td>0.250</td>\n",
       "      <td>f</td>\n",
       "      <td>f</td>\n",
       "      <td>0</td>\n",
       "      <td>t</td>\n",
       "      <td>g</td>\n",
       "      <td>300</td>\n",
       "      <td>0</td>\n",
       "      <td>-</td>\n",
       "    </tr>\n",
       "    <tr>\n",
       "      <th>4</th>\n",
       "      <td>5</td>\n",
       "      <td>?</td>\n",
       "      <td>26.5</td>\n",
       "      <td>2.710</td>\n",
       "      <td>y</td>\n",
       "      <td>p</td>\n",
       "      <td>?</td>\n",
       "      <td>?</td>\n",
       "      <td>0.085</td>\n",
       "      <td>f</td>\n",
       "      <td>f</td>\n",
       "      <td>0</td>\n",
       "      <td>f</td>\n",
       "      <td>s</td>\n",
       "      <td>80</td>\n",
       "      <td>0</td>\n",
       "      <td>-</td>\n",
       "    </tr>\n",
       "  </tbody>\n",
       "</table>\n",
       "</div>"
      ],
      "text/plain": [
       "   Key Male    Age   Debt Married BankCustomer EducationLevel Ethnicity  \\\n",
       "0    1    ?  40.83  3.500       u            g              i        bb   \n",
       "1    2    ?  32.25  1.500       u            g              c         v   \n",
       "2    3    ?  28.17  0.585       u            g             aa         v   \n",
       "3    4    ?  29.75  0.665       u            g              w         v   \n",
       "4    5    ?   26.5  2.710       y            p              ?         ?   \n",
       "\n",
       "   YearsEmployed PriorDefault Employed  CreditScore DriversLicense Citizen  \\\n",
       "0          0.500            f        f            0              f       s   \n",
       "1          0.250            f        f            0              t       g   \n",
       "2          0.040            f        f            0              f       g   \n",
       "3          0.250            f        f            0              t       g   \n",
       "4          0.085            f        f            0              f       s   \n",
       "\n",
       "  ZipCode  Income Approved  \n",
       "0    1160       0        -  \n",
       "1     372     122        -  \n",
       "2     260    1004        -  \n",
       "3     300       0        -  \n",
       "4      80       0        -  "
      ]
     },
     "execution_count": 3,
     "metadata": {},
     "output_type": "execute_result"
    }
   ],
   "source": [
    "df.head()"
   ]
  },
  {
   "cell_type": "code",
   "execution_count": 4,
   "metadata": {},
   "outputs": [],
   "source": [
    "df=df.replace(to_replace='?', value=-9999)\n",
    "df=df.dropna()\n",
    "df=df.drop_duplicates()\n",
    "\n",
    "# Here, I use another data frame\n",
    "# In these example we take different criteria to classify whether we need to approve credit card or not.\n",
    "\n",
    "df1=df[['Age','Debt','Employed','YearsEmployed','CreditScore','Income','Approved']]"
   ]
  },
  {
   "cell_type": "code",
   "execution_count": 5,
   "metadata": {},
   "outputs": [
    {
     "name": "stdout",
     "output_type": "stream",
     "text": [
      "Age              0\n",
      "Debt             0\n",
      "Employed         0\n",
      "YearsEmployed    0\n",
      "CreditScore      0\n",
      "Income           0\n",
      "Approved         0\n",
      "dtype: int64\n",
      "False\n"
     ]
    }
   ],
   "source": [
    "#print(df1.head())\n",
    "#print(df1.tail())\n",
    "df1=df1.dropna()\n",
    "df1=df1.drop_duplicates()\n",
    "print(df1.isnull().sum())\n",
    "print(df1.isnull().values.any())"
   ]
  },
  {
   "cell_type": "code",
   "execution_count": 6,
   "metadata": {},
   "outputs": [
    {
     "name": "stdout",
     "output_type": "stream",
     "text": [
      "589\n",
      "589\n",
      "589\n",
      "589\n",
      "589\n",
      "589\n",
      "589\n"
     ]
    }
   ],
   "source": [
    "X1=np.array(df1.CreditScore)\n",
    "X2=np.array(df1.Debt)\n",
    "X3=np.array(df1.Income)\n",
    "X4=np.array(df1.Age)\n",
    "X5=np.array(df1.Employed)\n",
    "X6=np.array(df1.YearsEmployed)\n",
    "y=np.array(df1.Approved)\n",
    "\n",
    "print(len(X1))\n",
    "print(len(X2))\n",
    "print(len(X3))\n",
    "print(len(X4))\n",
    "print(len(X5))\n",
    "print(len(X6))\n",
    "print(len(y))"
   ]
  },
  {
   "cell_type": "code",
   "execution_count": 7,
   "metadata": {},
   "outputs": [
    {
     "name": "stdout",
     "output_type": "stream",
     "text": [
      "(589,)\n",
      "(589,)\n",
      "(589, 1)\n"
     ]
    }
   ],
   "source": [
    "print(X2.shape)\n",
    "print(y.shape)\n",
    "\n",
    "y=y.reshape((y.shape[0],1))\n",
    "\n",
    "print(y.shape)"
   ]
  },
  {
   "cell_type": "code",
   "execution_count": 8,
   "metadata": {},
   "outputs": [],
   "source": [
    "encode=LabelEncoder()\n",
    "encode.fit(df1.Employed)\n",
    "X5=encode.transform(df1.Employed)"
   ]
  },
  {
   "cell_type": "code",
   "execution_count": 9,
   "metadata": {},
   "outputs": [],
   "source": [
    "Xs1=np.empty((X1.shape[0],3))#X.reshape(590,3)\n",
    "Xs2=np.empty((X2.shape[0],3))\n",
    "Xs3=np.empty((X3.shape[0],3))\n",
    "Xs4=np.empty((X4.shape[0],3))\n",
    "Xs5=np.empty((X5.shape[0],3))\n",
    "Xs6=np.empty((X6.shape[0],3))\n",
    "\n",
    "#Xs1=[data for data in X1]\n",
    "for i in range(len(X1)):\n",
    "    Xs1[i]=X1[i]\n",
    "    \n",
    "for i in range(len(X2)):\n",
    "    Xs2[i]=X2[i]\n",
    "    \n",
    "for i in range(len(X3)):\n",
    "    Xs3[i]=X3[i]\n",
    "\n",
    "for i in range(len(X4)):\n",
    "    Xs4[i]=X4[i]\n",
    "\n",
    "for i in range(len(X5)):\n",
    "    Xs5[i]=X5[i]\n",
    "    \n",
    "for i in range(len(X6)):\n",
    "    Xs6[i]=X6[i]"
   ]
  },
  {
   "cell_type": "code",
   "execution_count": 10,
   "metadata": {},
   "outputs": [
    {
     "name": "stdout",
     "output_type": "stream",
     "text": [
      "(589, 3)\n",
      "(589, 1)\n"
     ]
    }
   ],
   "source": [
    "print(Xs2.shape)\n",
    "print(y.shape)"
   ]
  },
  {
   "cell_type": "code",
   "execution_count": 11,
   "metadata": {},
   "outputs": [],
   "source": [
    "encoder=LabelEncoder()\n",
    "encoder.fit(df1.Approved)\n",
    "y=encoder.transform(df1.Approved)\n",
    "y=y.reshape((y.shape[0],1))"
   ]
  },
  {
   "cell_type": "code",
   "execution_count": 12,
   "metadata": {},
   "outputs": [
    {
     "name": "stderr",
     "output_type": "stream",
     "text": [
      "Using TensorFlow backend.\n"
     ]
    },
    {
     "name": "stdout",
     "output_type": "stream",
     "text": [
      "WARNING:tensorflow:From D:\\anaconda_py\\lib\\site-packages\\tensorflow\\python\\framework\\op_def_library.py:263: colocate_with (from tensorflow.python.framework.ops) is deprecated and will be removed in a future version.\n",
      "Instructions for updating:\n",
      "Colocations handled automatically by placer.\n",
      "WARNING:tensorflow:From D:\\anaconda_py\\lib\\site-packages\\keras\\backend\\tensorflow_backend.py:3445: calling dropout (from tensorflow.python.ops.nn_ops) with keep_prob is deprecated and will be removed in a future version.\n",
      "Instructions for updating:\n",
      "Please use `rate` instead of `keep_prob`. Rate should be set to `rate = 1 - keep_prob`.\n",
      "(?, 48)\n",
      "__________________________________________________________________________________________________\n",
      "Layer (type)                    Output Shape         Param #     Connected to                     \n",
      "==================================================================================================\n",
      "dense_1_input (InputLayer)      (None, 3)            0                                            \n",
      "__________________________________________________________________________________________________\n",
      "dense_3_input (InputLayer)      (None, 3)            0                                            \n",
      "__________________________________________________________________________________________________\n",
      "dense_5_input (InputLayer)      (None, 3)            0                                            \n",
      "__________________________________________________________________________________________________\n",
      "dense_7_input (InputLayer)      (None, 3)            0                                            \n",
      "__________________________________________________________________________________________________\n",
      "dense_9_input (InputLayer)      (None, 3)            0                                            \n",
      "__________________________________________________________________________________________________\n",
      "dense_11_input (InputLayer)     (None, 3)            0                                            \n",
      "__________________________________________________________________________________________________\n",
      "dense_1 (Dense)                 (None, 16)           64          dense_1_input[0][0]              \n",
      "__________________________________________________________________________________________________\n",
      "dense_3 (Dense)                 (None, 16)           64          dense_3_input[0][0]              \n",
      "__________________________________________________________________________________________________\n",
      "dense_5 (Dense)                 (None, 16)           64          dense_5_input[0][0]              \n",
      "__________________________________________________________________________________________________\n",
      "dense_7 (Dense)                 (None, 16)           64          dense_7_input[0][0]              \n",
      "__________________________________________________________________________________________________\n",
      "dense_9 (Dense)                 (None, 16)           64          dense_9_input[0][0]              \n",
      "__________________________________________________________________________________________________\n",
      "dense_11 (Dense)                (None, 16)           64          dense_11_input[0][0]             \n",
      "__________________________________________________________________________________________________\n",
      "dropout_1 (Dropout)             (None, 16)           0           dense_1[0][0]                    \n",
      "__________________________________________________________________________________________________\n",
      "dropout_3 (Dropout)             (None, 16)           0           dense_3[0][0]                    \n",
      "__________________________________________________________________________________________________\n",
      "dropout_5 (Dropout)             (None, 16)           0           dense_5[0][0]                    \n",
      "__________________________________________________________________________________________________\n",
      "dropout_7 (Dropout)             (None, 16)           0           dense_7[0][0]                    \n",
      "__________________________________________________________________________________________________\n",
      "dropout_9 (Dropout)             (None, 16)           0           dense_9[0][0]                    \n",
      "__________________________________________________________________________________________________\n",
      "dropout_11 (Dropout)            (None, 16)           0           dense_11[0][0]                   \n",
      "__________________________________________________________________________________________________\n",
      "dense_2 (Dense)                 (None, 8)            136         dropout_1[0][0]                  \n",
      "__________________________________________________________________________________________________\n",
      "dense_4 (Dense)                 (None, 8)            136         dropout_3[0][0]                  \n",
      "__________________________________________________________________________________________________\n",
      "dense_6 (Dense)                 (None, 8)            136         dropout_5[0][0]                  \n",
      "__________________________________________________________________________________________________\n",
      "dense_8 (Dense)                 (None, 8)            136         dropout_7[0][0]                  \n",
      "__________________________________________________________________________________________________\n",
      "dense_10 (Dense)                (None, 8)            136         dropout_9[0][0]                  \n",
      "__________________________________________________________________________________________________\n",
      "dense_12 (Dense)                (None, 8)            136         dropout_11[0][0]                 \n",
      "__________________________________________________________________________________________________\n",
      "dropout_2 (Dropout)             (None, 8)            0           dense_2[0][0]                    \n",
      "__________________________________________________________________________________________________\n",
      "dropout_4 (Dropout)             (None, 8)            0           dense_4[0][0]                    \n",
      "__________________________________________________________________________________________________\n",
      "dropout_6 (Dropout)             (None, 8)            0           dense_6[0][0]                    \n",
      "__________________________________________________________________________________________________\n",
      "dropout_8 (Dropout)             (None, 8)            0           dense_8[0][0]                    \n",
      "__________________________________________________________________________________________________\n",
      "dropout_10 (Dropout)            (None, 8)            0           dense_10[0][0]                   \n",
      "__________________________________________________________________________________________________\n",
      "dropout_12 (Dropout)            (None, 8)            0           dense_12[0][0]                   \n",
      "__________________________________________________________________________________________________\n",
      "concatenate_1 (Concatenate)     (None, 48)           0           dropout_2[0][0]                  \n",
      "                                                                 dropout_4[0][0]                  \n",
      "                                                                 dropout_6[0][0]                  \n",
      "                                                                 dropout_8[0][0]                  \n",
      "                                                                 dropout_10[0][0]                 \n",
      "                                                                 dropout_12[0][0]                 \n",
      "__________________________________________________________________________________________________\n",
      "dense_13 (Dense)                (None, 4)            196         concatenate_1[0][0]              \n",
      "__________________________________________________________________________________________________\n",
      "dense_14 (Dense)                (None, 1)            5           dense_13[0][0]                   \n",
      "==================================================================================================\n",
      "Total params: 1,401\n",
      "Trainable params: 1,401\n",
      "Non-trainable params: 0\n",
      "__________________________________________________________________________________________________\n"
     ]
    }
   ],
   "source": [
    "from keras.layers import Activation, Dense, Dropout, Flatten\n",
    "from keras.models import Sequential\n",
    "from keras import Input, Model\n",
    "from keras.layers import concatenate\n",
    "\n",
    "def create_mod(dim):\n",
    "    model=Sequential()\n",
    "    model.add(Dense(16,activation='tanh',input_dim=dim))\n",
    "    model.add(Dropout(0.1))\n",
    "    #model.add(Dense(16,activation='tanh'))\n",
    "    #model.add(Dropout(0.05))\n",
    "    model.add(Dense(8,activation='tanh'))\n",
    "    model.add(Dropout(0.05))\n",
    "    #model.add(Dropout(0.025))\n",
    "    return model\n",
    "\n",
    "# we have these 6 models as input and we need to concate it\n",
    "\n",
    "X_train1=create_mod(3)\n",
    "X_train2=create_mod(3)\n",
    "X_train3=create_mod(3)\n",
    "X_train4=create_mod(3)\n",
    "X_train5=create_mod(3)\n",
    "X_train6=create_mod(3)\n",
    "Xs=concatenate([X_train1.output,X_train2.output,X_train3.output,X_train4.output,X_train5.output,X_train6.output])\n",
    "print(Xs.shape)\n",
    "\n",
    "tr=Dense(4,activation='tanh')(Xs)\n",
    "tr=Dense(1,activation='sigmoid')(tr)\n",
    "model=Model(inputs=[X_train1.input,X_train2.input,X_train3.input,X_train4.input,X_train5.input,X_train6.input],outputs=tr)\n",
    "model.summary()"
   ]
  },
  {
   "cell_type": "code",
   "execution_count": 13,
   "metadata": {},
   "outputs": [
    {
     "name": "stdout",
     "output_type": "stream",
     "text": [
      "WARNING:tensorflow:From D:\\anaconda_py\\lib\\site-packages\\tensorflow\\python\\ops\\math_ops.py:3066: to_int32 (from tensorflow.python.ops.math_ops) is deprecated and will be removed in a future version.\n",
      "Instructions for updating:\n",
      "Use tf.cast instead.\n",
      "Epoch 1/10\n",
      "589/589 [==============================] - 7s 11ms/step - loss: 0.5844 - acc: 0.7470\n",
      "Epoch 2/10\n",
      "589/589 [==============================] - 0s 388us/step - loss: 0.5293 - acc: 0.7708\n",
      "Epoch 3/10\n",
      "589/589 [==============================] - 0s 387us/step - loss: 0.5186 - acc: 0.7759\n",
      "Epoch 4/10\n",
      "589/589 [==============================] - 0s 386us/step - loss: 0.5004 - acc: 0.7878\n",
      "Epoch 5/10\n",
      "589/589 [==============================] - 0s 368us/step - loss: 0.4961 - acc: 0.7878\n",
      "Epoch 6/10\n",
      "589/589 [==============================] - 0s 433us/step - loss: 0.4873 - acc: 0.7844\n",
      "Epoch 7/10\n",
      "589/589 [==============================] - 0s 382us/step - loss: 0.4800 - acc: 0.7827\n",
      "Epoch 8/10\n",
      "589/589 [==============================] - 0s 369us/step - loss: 0.4787 - acc: 0.7912\n",
      "Epoch 9/10\n",
      "589/589 [==============================] - 0s 395us/step - loss: 0.4665 - acc: 0.7963\n",
      "Epoch 10/10\n",
      "589/589 [==============================] - 0s 366us/step - loss: 0.4619 - acc: 0.7997\n"
     ]
    }
   ],
   "source": [
    "model.compile(loss='binary_crossentropy',optimizer='rmsprop',metrics=['accuracy'])\n",
    "#model.compile(loss='hinge',optimizer='rmsprop',metrics=['accuracy'])\n",
    "history=model.fit([Xs1,Xs2,Xs3,Xs4,Xs5,Xs6],y,epochs=10,batch_size=10)"
   ]
  },
  {
   "cell_type": "code",
   "execution_count": 14,
   "metadata": {},
   "outputs": [
    {
     "data": {
      "text/plain": [
       "[<matplotlib.lines.Line2D at 0x18f0fd432b0>]"
      ]
     },
     "execution_count": 14,
     "metadata": {},
     "output_type": "execute_result"
    },
    {
     "data": {
      "image/png": "[encoded data removed]",
      "text/plain": [
       "<Figure size 432x288 with 1 Axes>"
      ]
     },
     "metadata": {
      "needs_background": "light"
     },
     "output_type": "display_data"
    }
   ],
   "source": [
    "plt.title('Loss')\n",
    "plt.plot(history.history['loss'])"
   ]
  },
  {
   "cell_type": "code",
   "execution_count": 15,
   "metadata": {},
   "outputs": [
    {
     "data": {
      "text/plain": [
       "[<matplotlib.lines.Line2D at 0x18f0fdd61d0>]"
      ]
     },
     "execution_count": 15,
     "metadata": {},
     "output_type": "execute_result"
    },
    {
     "data": {
      "image/png": "[encoded data removed]",
      "text/plain": [
       "<Figure size 432x288 with 1 Axes>"
      ]
     },
     "metadata": {
      "needs_background": "light"
     },
     "output_type": "display_data"
    }
   ],
   "source": [
    "plt.title('Accuracy')\n",
    "plt.plot(history.history['acc'])"
   ]
  },
  {
   "cell_type": "code",
   "execution_count": 16,
   "metadata": {},
   "outputs": [],
   "source": [
    "df_test=pd.read_csv(\"test.csv\")\n",
    "\n",
    "df_test_1=df_test[['Age','Debt','Employed','YearsEmployed','CreditScore','Income']]"
   ]
  },
  {
   "cell_type": "code",
   "execution_count": 17,
   "metadata": {},
   "outputs": [
    {
     "name": "stdout",
     "output_type": "stream",
     "text": [
      "100/100 [==============================] - 1s 7ms/step\n"
     ]
    }
   ],
   "source": [
    "X_test1=np.array(df_test_1.CreditScore)\n",
    "X_test2=np.array(df_test_1.Debt)\n",
    "X_test3=np.array(df_test_1.Income)\n",
    "X_test4=np.array(df_test_1.Age)\n",
    "X_test5=np.array(df_test_1.Employed)\n",
    "X_test6=np.array(df_test_1.YearsEmployed)\n",
    "\n",
    "X_t1=np.empty((X_test1.shape[0],3))\n",
    "X_t2=np.empty((X_test2.shape[0],3))\n",
    "X_t3=np.empty((X_test3.shape[0],3))\n",
    "X_t4=np.empty((X_test4.shape[0],3))\n",
    "X_t5=np.empty((X_test5.shape[0],3))\n",
    "X_t6=np.empty((X_test6.shape[0],3))\n",
    "for x in range(len(X_test1)):\n",
    "    X_t1[x]=X_test1[x]\n",
    "\n",
    "for x in range(len(X_test2)):\n",
    "    X_t2[x]=X_test2[x]\n",
    "\n",
    "for x in range(len(X_test3)):\n",
    "    X_t3[x]=X_test3[x]\n",
    "\n",
    "for x in range(len(X_test4)):\n",
    "    X_t4[x]=X_test4[x]\n",
    "\n",
    "encode=LabelEncoder()\n",
    "encode.fit(df_test_1.Employed)\n",
    "X_test5=encode.transform(df_test_1.Employed)\n",
    "\n",
    "for x in range(len(X_test5)):\n",
    "    X_t5[x]=X_test5[x]\n",
    "\n",
    "for x in range(len(X_test6)):\n",
    "    X_t6[x]=X_test6[x]\n",
    "\n",
    "\n",
    "scores=model.predict([X_t1,X_t2,X_t3,X_t4,X_t5,X_t6],verbose=1,batch_size=10)"
   ]
  },
  {
   "cell_type": "code",
   "execution_count": 18,
   "metadata": {},
   "outputs": [
    {
     "name": "stdout",
     "output_type": "stream",
     "text": [
      "[[0.8352897 ]\n",
      " [0.82426757]\n",
      " [0.5792928 ]\n",
      " [0.8730793 ]\n",
      " [0.84884965]\n",
      " [0.6922086 ]\n",
      " [0.838958  ]\n",
      " [0.8769736 ]\n",
      " [0.83586514]\n",
      " [0.87768394]]\n"
     ]
    }
   ],
   "source": [
    "print(scores[0:10])"
   ]
  },
  {
   "cell_type": "code",
   "execution_count": 19,
   "metadata": {},
   "outputs": [],
   "source": [
    "model.save('credit_card_ae.h5')"
   ]
  },
  {
   "cell_type": "code",
   "execution_count": null,
   "metadata": {},
   "outputs": [],
   "source": []
  }
 ],
 "metadata": {
  "kernelspec": {
   "display_name": "Python 3",
   "language": "python",
   "name": "python3"
  },
  "language_info": {
   "codemirror_mode": {
    "name": "ipython",
    "version": 3
   },
   "file_extension": ".py",
   "mimetype": "text/x-python",
   "name": "python",
   "nbconvert_exporter": "python",
   "pygments_lexer": "ipython3",
   "version": "3.7.3"
  }
 },
 "nbformat": 4,
 "nbformat_minor": 2
}
